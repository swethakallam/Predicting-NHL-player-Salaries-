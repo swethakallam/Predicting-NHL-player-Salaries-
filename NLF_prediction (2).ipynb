{
 "cells": [
  {
   "cell_type": "code",
   "execution_count": 1,
   "metadata": {},
   "outputs": [
    {
     "name": "stderr",
     "output_type": "stream",
     "text": [
      "/anaconda3/lib/python3.7/site-packages/sklearn/utils/deprecation.py:144: FutureWarning: The sklearn.ensemble.forest module is  deprecated in version 0.22 and will be removed in version 0.24. The corresponding classes / functions should instead be imported from sklearn.ensemble. Anything that cannot be imported from sklearn.ensemble is now part of the private API.\n",
      "  warnings.warn(message, FutureWarning)\n"
     ]
    },
    {
     "data": {
      "text/html": [
       "<div>\n",
       "<style scoped>\n",
       "    .dataframe tbody tr th:only-of-type {\n",
       "        vertical-align: middle;\n",
       "    }\n",
       "\n",
       "    .dataframe tbody tr th {\n",
       "        vertical-align: top;\n",
       "    }\n",
       "\n",
       "    .dataframe thead th {\n",
       "        text-align: right;\n",
       "    }\n",
       "</style>\n",
       "<table border=\"1\" class=\"dataframe\">\n",
       "  <thead>\n",
       "    <tr style=\"text-align: right;\">\n",
       "      <th></th>\n",
       "      <th>Salary</th>\n",
       "      <th>Born</th>\n",
       "      <th>City</th>\n",
       "      <th>Pr/St</th>\n",
       "      <th>Cntry</th>\n",
       "      <th>Nat</th>\n",
       "      <th>Ht</th>\n",
       "      <th>Wt</th>\n",
       "      <th>DftYr</th>\n",
       "      <th>DftRd</th>\n",
       "      <th>...</th>\n",
       "      <th>PEND</th>\n",
       "      <th>OPS</th>\n",
       "      <th>DPS</th>\n",
       "      <th>PS</th>\n",
       "      <th>OTOI</th>\n",
       "      <th>Grit</th>\n",
       "      <th>DAP</th>\n",
       "      <th>Pace</th>\n",
       "      <th>GS</th>\n",
       "      <th>GS/G</th>\n",
       "    </tr>\n",
       "  </thead>\n",
       "  <tbody>\n",
       "    <tr>\n",
       "      <th>0</th>\n",
       "      <td>925000</td>\n",
       "      <td>97-01-30</td>\n",
       "      <td>Sainte-Marie</td>\n",
       "      <td>QC</td>\n",
       "      <td>CAN</td>\n",
       "      <td>CAN</td>\n",
       "      <td>74</td>\n",
       "      <td>190</td>\n",
       "      <td>2015.0</td>\n",
       "      <td>1.0</td>\n",
       "      <td>...</td>\n",
       "      <td>1.0</td>\n",
       "      <td>0.0</td>\n",
       "      <td>-0.2</td>\n",
       "      <td>-0.2</td>\n",
       "      <td>40.03</td>\n",
       "      <td>1</td>\n",
       "      <td>0.0</td>\n",
       "      <td>175.7</td>\n",
       "      <td>-0.4</td>\n",
       "      <td>-0.38</td>\n",
       "    </tr>\n",
       "    <tr>\n",
       "      <th>1</th>\n",
       "      <td>2250000</td>\n",
       "      <td>93-12-21</td>\n",
       "      <td>Ottawa</td>\n",
       "      <td>ON</td>\n",
       "      <td>CAN</td>\n",
       "      <td>CAN</td>\n",
       "      <td>74</td>\n",
       "      <td>207</td>\n",
       "      <td>2012.0</td>\n",
       "      <td>1.0</td>\n",
       "      <td>...</td>\n",
       "      <td>98.0</td>\n",
       "      <td>-0.2</td>\n",
       "      <td>3.4</td>\n",
       "      <td>3.2</td>\n",
       "      <td>2850.59</td>\n",
       "      <td>290</td>\n",
       "      <td>13.3</td>\n",
       "      <td>112.5</td>\n",
       "      <td>14.1</td>\n",
       "      <td>0.18</td>\n",
       "    </tr>\n",
       "    <tr>\n",
       "      <th>2</th>\n",
       "      <td>8000000</td>\n",
       "      <td>88-04-16</td>\n",
       "      <td>St. Paul</td>\n",
       "      <td>MN</td>\n",
       "      <td>USA</td>\n",
       "      <td>USA</td>\n",
       "      <td>72</td>\n",
       "      <td>218</td>\n",
       "      <td>2006.0</td>\n",
       "      <td>1.0</td>\n",
       "      <td>...</td>\n",
       "      <td>70.0</td>\n",
       "      <td>3.7</td>\n",
       "      <td>1.3</td>\n",
       "      <td>5.0</td>\n",
       "      <td>2486.75</td>\n",
       "      <td>102</td>\n",
       "      <td>6.6</td>\n",
       "      <td>114.8</td>\n",
       "      <td>36.8</td>\n",
       "      <td>0.57</td>\n",
       "    </tr>\n",
       "    <tr>\n",
       "      <th>3</th>\n",
       "      <td>3500000</td>\n",
       "      <td>92-01-07</td>\n",
       "      <td>Ottawa</td>\n",
       "      <td>ON</td>\n",
       "      <td>CAN</td>\n",
       "      <td>CAN</td>\n",
       "      <td>77</td>\n",
       "      <td>220</td>\n",
       "      <td>2010.0</td>\n",
       "      <td>1.0</td>\n",
       "      <td>...</td>\n",
       "      <td>22.0</td>\n",
       "      <td>0.0</td>\n",
       "      <td>0.4</td>\n",
       "      <td>0.5</td>\n",
       "      <td>1074.41</td>\n",
       "      <td>130</td>\n",
       "      <td>17.5</td>\n",
       "      <td>105.1</td>\n",
       "      <td>5.9</td>\n",
       "      <td>0.20</td>\n",
       "    </tr>\n",
       "    <tr>\n",
       "      <th>4</th>\n",
       "      <td>1750000</td>\n",
       "      <td>94-03-29</td>\n",
       "      <td>Toronto</td>\n",
       "      <td>ON</td>\n",
       "      <td>CAN</td>\n",
       "      <td>CAN</td>\n",
       "      <td>76</td>\n",
       "      <td>217</td>\n",
       "      <td>2012.0</td>\n",
       "      <td>1.0</td>\n",
       "      <td>...</td>\n",
       "      <td>68.0</td>\n",
       "      <td>-0.1</td>\n",
       "      <td>1.4</td>\n",
       "      <td>1.3</td>\n",
       "      <td>3459.09</td>\n",
       "      <td>425</td>\n",
       "      <td>8.3</td>\n",
       "      <td>99.5</td>\n",
       "      <td>21.8</td>\n",
       "      <td>0.27</td>\n",
       "    </tr>\n",
       "  </tbody>\n",
       "</table>\n",
       "<p>5 rows × 154 columns</p>\n",
       "</div>"
      ],
      "text/plain": [
       "    Salary      Born          City Pr/St Cntry  Nat  Ht   Wt   DftYr  DftRd  \\\n",
       "0   925000  97-01-30  Sainte-Marie    QC   CAN  CAN  74  190  2015.0    1.0   \n",
       "1  2250000  93-12-21        Ottawa    ON   CAN  CAN  74  207  2012.0    1.0   \n",
       "2  8000000  88-04-16      St. Paul    MN   USA  USA  72  218  2006.0    1.0   \n",
       "3  3500000  92-01-07        Ottawa    ON   CAN  CAN  77  220  2010.0    1.0   \n",
       "4  1750000  94-03-29       Toronto    ON   CAN  CAN  76  217  2012.0    1.0   \n",
       "\n",
       "   ...  PEND  OPS  DPS   PS     OTOI Grit   DAP   Pace    GS  GS/G  \n",
       "0  ...   1.0  0.0 -0.2 -0.2    40.03    1   0.0  175.7  -0.4 -0.38  \n",
       "1  ...  98.0 -0.2  3.4  3.2  2850.59  290  13.3  112.5  14.1  0.18  \n",
       "2  ...  70.0  3.7  1.3  5.0  2486.75  102   6.6  114.8  36.8  0.57  \n",
       "3  ...  22.0  0.0  0.4  0.5  1074.41  130  17.5  105.1   5.9  0.20  \n",
       "4  ...  68.0 -0.1  1.4  1.3  3459.09  425   8.3   99.5  21.8  0.27  \n",
       "\n",
       "[5 rows x 154 columns]"
      ]
     },
     "execution_count": 1,
     "metadata": {},
     "output_type": "execute_result"
    }
   ],
   "source": [
    "import pandas as pd\n",
    "from datetime import datetime\n",
    "import numpy as np\n",
    "train = pd.read_csv(\"/Users/apple/Desktop/projects/predict-nhl-player-salaries/train.csv\", encoding = \"ISO-8859-1\")\n",
    "test = pd.read_csv(\"/Users/apple/Desktop/projects/predict-nhl-player-salaries/test.csv\", encoding = \"ISO-8859-1\")\n",
    "salary_test = pd.read_csv(\"/Users/apple/Desktop/projects//predict-nhl-player-salaries/test_salaries.csv\")\n",
    "list(test.shape)\n",
    "from sklearn.ensemble.forest import RandomForestClassifier, RandomForestRegressor\n",
    "from sklearn.feature_selection import SelectFromModel\n",
    "from sklearn.preprocessing import StandardScaler\n",
    "from sklearn.preprocessing import MinMaxScaler\n",
    "import xgboost as xgb\n",
    "import matplotlib.pyplot as plt\n",
    "train.head()"
   ]
  },
  {
   "cell_type": "code",
   "execution_count": 2,
   "metadata": {},
   "outputs": [
    {
     "data": {
      "text/plain": [
       "16"
      ]
     },
     "execution_count": 2,
     "metadata": {},
     "output_type": "execute_result"
    }
   ],
   "source": [
    "train['Nat'].nunique()"
   ]
  },
  {
   "cell_type": "code",
   "execution_count": 3,
   "metadata": {},
   "outputs": [],
   "source": [
    "# calculating age from date of birth\n",
    "def age(start, end= datetime(2019,10,17)):\n",
    "    x = ((end - start)/365)\n",
    "    return x.days\n",
    "\n",
    "train['Present_age'] = train.apply(lambda x: \n",
    "    age(datetime.strptime(x['Born'], '%y-%m-%d')) ,axis=1)\n",
    "\n",
    "test['Present_age'] = test.apply(lambda x: \n",
    "    age(datetime.strptime(x['Born'], '%y-%m-%d')) ,axis=1)\n"
   ]
  },
  {
   "cell_type": "code",
   "execution_count": 4,
   "metadata": {},
   "outputs": [],
   "source": [
    "#dropping city,state,country as nationality is already there\n",
    "#dropping name \n",
    "#dropping date of birth as age column is added\n",
    "drop = ['City', 'Pr/St', 'Cntry', 'Last Name', 'First Name', 'Team', 'Born']\n",
    "train.drop(drop, axis = 1, inplace = True)\n",
    "test.drop(drop, axis = 1, inplace = True)"
   ]
  },
  {
   "cell_type": "code",
   "execution_count": 5,
   "metadata": {},
   "outputs": [],
   "source": [
    "# making dataframes for cateogerical columns and numerical columns\n",
    "cat1_train = train.select_dtypes('object')\n",
    "num1_train = train.select_dtypes(exclude=['object'])\n",
    "cat1_test = test.select_dtypes('object')\n",
    "num1_test = test.select_dtypes(exclude=['object'])"
   ]
  },
  {
   "cell_type": "code",
   "execution_count": 6,
   "metadata": {},
   "outputs": [
    {
     "data": {
      "text/html": [
       "<div>\n",
       "<style scoped>\n",
       "    .dataframe tbody tr th:only-of-type {\n",
       "        vertical-align: middle;\n",
       "    }\n",
       "\n",
       "    .dataframe tbody tr th {\n",
       "        vertical-align: top;\n",
       "    }\n",
       "\n",
       "    .dataframe thead th {\n",
       "        text-align: right;\n",
       "    }\n",
       "</style>\n",
       "<table border=\"1\" class=\"dataframe\">\n",
       "  <thead>\n",
       "    <tr style=\"text-align: right;\">\n",
       "      <th></th>\n",
       "      <th>Nat</th>\n",
       "      <th>Hand</th>\n",
       "      <th>Position</th>\n",
       "    </tr>\n",
       "  </thead>\n",
       "  <tbody>\n",
       "    <tr>\n",
       "      <th>0</th>\n",
       "      <td>CAN</td>\n",
       "      <td>L</td>\n",
       "      <td>D</td>\n",
       "    </tr>\n",
       "    <tr>\n",
       "      <th>1</th>\n",
       "      <td>CAN</td>\n",
       "      <td>R</td>\n",
       "      <td>D</td>\n",
       "    </tr>\n",
       "    <tr>\n",
       "      <th>2</th>\n",
       "      <td>USA</td>\n",
       "      <td>R</td>\n",
       "      <td>RW</td>\n",
       "    </tr>\n",
       "    <tr>\n",
       "      <th>3</th>\n",
       "      <td>CAN</td>\n",
       "      <td>R</td>\n",
       "      <td>D</td>\n",
       "    </tr>\n",
       "    <tr>\n",
       "      <th>4</th>\n",
       "      <td>CAN</td>\n",
       "      <td>R</td>\n",
       "      <td>RW</td>\n",
       "    </tr>\n",
       "  </tbody>\n",
       "</table>\n",
       "</div>"
      ],
      "text/plain": [
       "   Nat Hand Position\n",
       "0  CAN    L        D\n",
       "1  CAN    R        D\n",
       "2  USA    R       RW\n",
       "3  CAN    R        D\n",
       "4  CAN    R       RW"
      ]
     },
     "execution_count": 6,
     "metadata": {},
     "output_type": "execute_result"
    }
   ],
   "source": [
    "cat1_train.head()"
   ]
  },
  {
   "cell_type": "code",
   "execution_count": 7,
   "metadata": {},
   "outputs": [],
   "source": [
    "# filling in blanks with NA and replacing in them with median\n",
    "num1_train.fillna\n",
    "num1_test.fillna\n",
    "num_train = num1_train.fillna(num1_train.median()) \n",
    "num_test = num1_test.fillna(num1_test.median())"
   ]
  },
  {
   "cell_type": "code",
   "execution_count": 8,
   "metadata": {},
   "outputs": [
    {
     "data": {
      "text/html": [
       "<div>\n",
       "<style scoped>\n",
       "    .dataframe tbody tr th:only-of-type {\n",
       "        vertical-align: middle;\n",
       "    }\n",
       "\n",
       "    .dataframe tbody tr th {\n",
       "        vertical-align: top;\n",
       "    }\n",
       "\n",
       "    .dataframe thead th {\n",
       "        text-align: right;\n",
       "    }\n",
       "</style>\n",
       "<table border=\"1\" class=\"dataframe\">\n",
       "  <thead>\n",
       "    <tr style=\"text-align: right;\">\n",
       "      <th></th>\n",
       "      <th>Nat</th>\n",
       "      <th>Hand</th>\n",
       "      <th>Position</th>\n",
       "    </tr>\n",
       "  </thead>\n",
       "  <tbody>\n",
       "    <tr>\n",
       "      <th>0</th>\n",
       "      <td>N</td>\n",
       "      <td>L</td>\n",
       "      <td>D</td>\n",
       "    </tr>\n",
       "    <tr>\n",
       "      <th>1</th>\n",
       "      <td>N</td>\n",
       "      <td>R</td>\n",
       "      <td>D</td>\n",
       "    </tr>\n",
       "    <tr>\n",
       "      <th>2</th>\n",
       "      <td>N</td>\n",
       "      <td>R</td>\n",
       "      <td>RW</td>\n",
       "    </tr>\n",
       "    <tr>\n",
       "      <th>3</th>\n",
       "      <td>N</td>\n",
       "      <td>R</td>\n",
       "      <td>D</td>\n",
       "    </tr>\n",
       "    <tr>\n",
       "      <th>4</th>\n",
       "      <td>N</td>\n",
       "      <td>R</td>\n",
       "      <td>RW</td>\n",
       "    </tr>\n",
       "  </tbody>\n",
       "</table>\n",
       "</div>"
      ],
      "text/plain": [
       "  Nat Hand Position\n",
       "0   N    L        D\n",
       "1   N    R        D\n",
       "2   N    R       RW\n",
       "3   N    R        D\n",
       "4   N    R       RW"
      ]
     },
     "execution_count": 8,
     "metadata": {},
     "output_type": "execute_result"
    }
   ],
   "source": [
    "a = cat1_train.replace(['CAN', 'USA'], 'N' )\n",
    "cata_train = a.replace(['SWE', 'CZE', 'CHE', 'FRA', 'DEU', 'SVK', 'RUS',\n",
    "       'FIN', 'AUT', 'NOR', 'DNK', 'LVA', 'HRV', 'GBR'], 'I')\n",
    "b = cat1_test.replace(['CAN', 'USA'], 'N' )\n",
    "catb_test = b.replace(['SWE', 'CZE', 'CHE', 'FRA', 'DEU', 'SVK', 'RUS',\n",
    "       'FIN', 'AUT', 'NOR', 'DNK', 'LVA', 'HRV', 'GBR','SVN'], 'I')\n",
    "cata_train.head()"
   ]
  },
  {
   "cell_type": "code",
   "execution_count": 9,
   "metadata": {},
   "outputs": [],
   "source": [
    "#from sklearn.preprocessing import OneHotEncoder\n",
    "#ohe = OneHotEncoder(categories='auto')\n",
    "#feature_arr = ohe.fit_transform(cat_train[['Position','Nat','Hand']]).toarray()\n",
    "#feature_labels = ohe.categories_\n",
    "#feature_labels = np.array(feature_labels).ravel()\n",
    "#features = pd.DataFrame(feature_arr, columns=feature_labels)\n",
    "#cat_train = cata_train.join(cata_train.Position.str.get_dummies(),cata_train.Nat.str.get_dummies(),cata_train.Hand.str.get_dummies())\n",
    "cat_split_train = pd.get_dummies(cata_train)\n",
    "cat_split_test = pd.get_dummies(catb_test)\n",
    "cat_train = pd.DataFrame.from_dict(cat_split_train) \n",
    "cat_test = pd.DataFrame.from_dict(cat_split_test) "
   ]
  },
  {
   "cell_type": "code",
   "execution_count": 10,
   "metadata": {},
   "outputs": [],
   "source": [
    "test_clean =  pd.concat([num_test,cat_test], axis = 1)\n",
    "train_clean =  pd.concat([num_train,cat_train], axis = 1)\n",
    "#test_clean = pd.concat((num_test,cat_test),axis=1)\n",
    "#test_clean =  pd.DataFrame.merge(num_test,cat_test, axis=0, ignore_index=True)"
   ]
  },
  {
   "cell_type": "code",
   "execution_count": 11,
   "metadata": {},
   "outputs": [],
   "source": [
    "#ss = StandardScaler()\n",
    "#train_ss = ss.fit_transform(train_clean)\n",
    "#test_ss = ss.fit_transform(test_clean)"
   ]
  },
  {
   "cell_type": "code",
   "execution_count": 12,
   "metadata": {},
   "outputs": [],
   "source": [
    "#print(train_ss.mean(axis=0))\n",
    "#print(test_ss.std(axis=0))"
   ]
  },
  {
   "cell_type": "code",
   "execution_count": 13,
   "metadata": {},
   "outputs": [
    {
     "data": {
      "text/html": [
       "<div>\n",
       "<style scoped>\n",
       "    .dataframe tbody tr th:only-of-type {\n",
       "        vertical-align: middle;\n",
       "    }\n",
       "\n",
       "    .dataframe tbody tr th {\n",
       "        vertical-align: top;\n",
       "    }\n",
       "\n",
       "    .dataframe thead th {\n",
       "        text-align: right;\n",
       "    }\n",
       "</style>\n",
       "<table border=\"1\" class=\"dataframe\">\n",
       "  <thead>\n",
       "    <tr style=\"text-align: right;\">\n",
       "      <th></th>\n",
       "      <th>Ht</th>\n",
       "      <th>Wt</th>\n",
       "      <th>DftYr</th>\n",
       "      <th>DftRd</th>\n",
       "      <th>Ovrl</th>\n",
       "      <th>GP</th>\n",
       "      <th>G</th>\n",
       "      <th>A</th>\n",
       "      <th>A1</th>\n",
       "      <th>A2</th>\n",
       "      <th>...</th>\n",
       "      <th>Position_LW</th>\n",
       "      <th>Position_LW/C</th>\n",
       "      <th>Position_LW/C/RW</th>\n",
       "      <th>Position_LW/RW</th>\n",
       "      <th>Position_LW/RW/C</th>\n",
       "      <th>Position_RW</th>\n",
       "      <th>Position_RW/C</th>\n",
       "      <th>Position_RW/C/LW</th>\n",
       "      <th>Position_RW/LW</th>\n",
       "      <th>Position_RW/LW/C</th>\n",
       "    </tr>\n",
       "  </thead>\n",
       "  <tbody>\n",
       "    <tr>\n",
       "      <th>0</th>\n",
       "      <td>74</td>\n",
       "      <td>190</td>\n",
       "      <td>2015.0</td>\n",
       "      <td>1.0</td>\n",
       "      <td>18.0</td>\n",
       "      <td>1</td>\n",
       "      <td>0</td>\n",
       "      <td>0</td>\n",
       "      <td>0</td>\n",
       "      <td>0</td>\n",
       "      <td>...</td>\n",
       "      <td>0</td>\n",
       "      <td>0</td>\n",
       "      <td>0</td>\n",
       "      <td>0</td>\n",
       "      <td>0</td>\n",
       "      <td>0</td>\n",
       "      <td>0</td>\n",
       "      <td>0</td>\n",
       "      <td>0</td>\n",
       "      <td>0</td>\n",
       "    </tr>\n",
       "    <tr>\n",
       "      <th>1</th>\n",
       "      <td>74</td>\n",
       "      <td>207</td>\n",
       "      <td>2012.0</td>\n",
       "      <td>1.0</td>\n",
       "      <td>15.0</td>\n",
       "      <td>79</td>\n",
       "      <td>2</td>\n",
       "      <td>15</td>\n",
       "      <td>6</td>\n",
       "      <td>9</td>\n",
       "      <td>...</td>\n",
       "      <td>0</td>\n",
       "      <td>0</td>\n",
       "      <td>0</td>\n",
       "      <td>0</td>\n",
       "      <td>0</td>\n",
       "      <td>0</td>\n",
       "      <td>0</td>\n",
       "      <td>0</td>\n",
       "      <td>0</td>\n",
       "      <td>0</td>\n",
       "    </tr>\n",
       "    <tr>\n",
       "      <th>2</th>\n",
       "      <td>72</td>\n",
       "      <td>218</td>\n",
       "      <td>2006.0</td>\n",
       "      <td>1.0</td>\n",
       "      <td>7.0</td>\n",
       "      <td>65</td>\n",
       "      <td>19</td>\n",
       "      <td>26</td>\n",
       "      <td>13</td>\n",
       "      <td>13</td>\n",
       "      <td>...</td>\n",
       "      <td>0</td>\n",
       "      <td>0</td>\n",
       "      <td>0</td>\n",
       "      <td>0</td>\n",
       "      <td>0</td>\n",
       "      <td>1</td>\n",
       "      <td>0</td>\n",
       "      <td>0</td>\n",
       "      <td>0</td>\n",
       "      <td>0</td>\n",
       "    </tr>\n",
       "    <tr>\n",
       "      <th>3</th>\n",
       "      <td>77</td>\n",
       "      <td>220</td>\n",
       "      <td>2010.0</td>\n",
       "      <td>1.0</td>\n",
       "      <td>3.0</td>\n",
       "      <td>30</td>\n",
       "      <td>1</td>\n",
       "      <td>5</td>\n",
       "      <td>5</td>\n",
       "      <td>0</td>\n",
       "      <td>...</td>\n",
       "      <td>0</td>\n",
       "      <td>0</td>\n",
       "      <td>0</td>\n",
       "      <td>0</td>\n",
       "      <td>0</td>\n",
       "      <td>0</td>\n",
       "      <td>0</td>\n",
       "      <td>0</td>\n",
       "      <td>0</td>\n",
       "      <td>0</td>\n",
       "    </tr>\n",
       "    <tr>\n",
       "      <th>4</th>\n",
       "      <td>76</td>\n",
       "      <td>217</td>\n",
       "      <td>2012.0</td>\n",
       "      <td>1.0</td>\n",
       "      <td>16.0</td>\n",
       "      <td>82</td>\n",
       "      <td>7</td>\n",
       "      <td>12</td>\n",
       "      <td>4</td>\n",
       "      <td>8</td>\n",
       "      <td>...</td>\n",
       "      <td>0</td>\n",
       "      <td>0</td>\n",
       "      <td>0</td>\n",
       "      <td>0</td>\n",
       "      <td>0</td>\n",
       "      <td>1</td>\n",
       "      <td>0</td>\n",
       "      <td>0</td>\n",
       "      <td>0</td>\n",
       "      <td>0</td>\n",
       "    </tr>\n",
       "  </tbody>\n",
       "</table>\n",
       "<p>5 rows × 166 columns</p>\n",
       "</div>"
      ],
      "text/plain": [
       "   Ht   Wt   DftYr  DftRd  Ovrl  GP   G   A  A1  A2  ...  Position_LW  \\\n",
       "0  74  190  2015.0    1.0  18.0   1   0   0   0   0  ...            0   \n",
       "1  74  207  2012.0    1.0  15.0  79   2  15   6   9  ...            0   \n",
       "2  72  218  2006.0    1.0   7.0  65  19  26  13  13  ...            0   \n",
       "3  77  220  2010.0    1.0   3.0  30   1   5   5   0  ...            0   \n",
       "4  76  217  2012.0    1.0  16.0  82   7  12   4   8  ...            0   \n",
       "\n",
       "   Position_LW/C  Position_LW/C/RW  Position_LW/RW  Position_LW/RW/C  \\\n",
       "0              0                 0               0                 0   \n",
       "1              0                 0               0                 0   \n",
       "2              0                 0               0                 0   \n",
       "3              0                 0               0                 0   \n",
       "4              0                 0               0                 0   \n",
       "\n",
       "   Position_RW  Position_RW/C  Position_RW/C/LW  Position_RW/LW  \\\n",
       "0            0              0                 0               0   \n",
       "1            0              0                 0               0   \n",
       "2            1              0                 0               0   \n",
       "3            0              0                 0               0   \n",
       "4            1              0                 0               0   \n",
       "\n",
       "   Position_RW/LW/C  \n",
       "0                 0  \n",
       "1                 0  \n",
       "2                 0  \n",
       "3                 0  \n",
       "4                 0  \n",
       "\n",
       "[5 rows x 166 columns]"
      ]
     },
     "execution_count": 13,
     "metadata": {},
     "output_type": "execute_result"
    }
   ],
   "source": [
    "labels_train = train_clean['Salary']\n",
    "features_train = train_clean.drop('Salary', axis = 1)\n",
    "#labels_train = pd.DataFrame(labels_train)\n",
    "#features_train = pd.DataFrame(features_train)\n",
    "features_train.head()"
   ]
  },
  {
   "cell_type": "code",
   "execution_count": 14,
   "metadata": {},
   "outputs": [
    {
     "data": {
      "text/plain": [
       "(262, 166)"
      ]
     },
     "execution_count": 14,
     "metadata": {},
     "output_type": "execute_result"
    }
   ],
   "source": [
    "#ss = StandardScaler()\n",
    "ss = MinMaxScaler()\n",
    "#df_scaled = pd.DataFrame(scaler.fit_transform(df), columns=df.columns)\n",
    "feature_test =  pd.DataFrame(ss.fit_transform(test_clean),columns=test_clean.columns)\n",
    "feature_train = pd.DataFrame(ss.fit_transform(features_train),columns=features_train.columns)\n",
    "#label_train = pd.DataFrame(ss.fit_transform(labels_train),columns=labels_train.columns)\n",
    "#sal_test = pd.DataFrame(ss.fit_transform(salary_test),columns=salary_test.columns)\n",
    "\n",
    "#labels_train = ss.fit_transform(labels_train)\n",
    "#features_train = ss.fit_transform(features_train)\n",
    "feature_test.shape"
   ]
  },
  {
   "cell_type": "code",
   "execution_count": 15,
   "metadata": {},
   "outputs": [],
   "source": [
    "#features_train = np.array(features_train)\n",
    "#labels_train = np.array(labels_train)\n",
    "#salary_test = np.array(salary_test)\n",
    "#features_test = np.array(test_clean)"
   ]
  },
  {
   "cell_type": "code",
   "execution_count": 16,
   "metadata": {},
   "outputs": [
    {
     "data": {
      "text/plain": [
       "SelectFromModel(estimator=RandomForestClassifier(bootstrap=True, ccp_alpha=0.0,\n",
       "                                                 class_weight=None,\n",
       "                                                 criterion='gini',\n",
       "                                                 max_depth=None,\n",
       "                                                 max_features='auto',\n",
       "                                                 max_leaf_nodes=None,\n",
       "                                                 max_samples=None,\n",
       "                                                 min_impurity_decrease=0.0,\n",
       "                                                 min_impurity_split=None,\n",
       "                                                 min_samples_leaf=1,\n",
       "                                                 min_samples_split=2,\n",
       "                                                 min_weight_fraction_leaf=0.0,\n",
       "                                                 n_estimators=1000, n_jobs=None,\n",
       "                                                 oob_score=False,\n",
       "                                                 random_state=100, verbose=0,\n",
       "                                                 warm_start=False),\n",
       "                max_features=None, norm_order=1, prefit=False, threshold=None)"
      ]
     },
     "execution_count": 16,
     "metadata": {},
     "output_type": "execute_result"
    }
   ],
   "source": [
    "rf_exp = SelectFromModel(RandomForestClassifier(n_estimators= 1000, random_state=100))\n",
    "rf_exp.fit(feature_train,labels_train)"
   ]
  },
  {
   "cell_type": "code",
   "execution_count": 17,
   "metadata": {},
   "outputs": [
    {
     "data": {
      "text/plain": [
       "array([ True,  True,  True,  True,  True,  True, False, False, False,\n",
       "       False, False,  True,  True,  True,  True,  True,  True,  True,\n",
       "        True,  True,  True,  True,  True,  True,  True,  True,  True,\n",
       "        True,  True,  True,  True,  True,  True,  True,  True,  True,\n",
       "        True, False, False,  True,  True,  True,  True,  True,  True,\n",
       "        True,  True,  True,  True,  True,  True,  True,  True,  True,\n",
       "        True, False, False, False, False, False, False, False, False,\n",
       "       False, False, False, False, False, False, False, False, False,\n",
       "       False, False, False, False, False, False, False, False, False,\n",
       "       False, False, False, False, False, False, False, False,  True,\n",
       "       False, False,  True,  True, False, False,  True,  True,  True,\n",
       "        True,  True,  True,  True,  True, False, False, False, False,\n",
       "        True,  True,  True,  True,  True,  True,  True,  True,  True,\n",
       "        True,  True,  True,  True,  True,  True,  True,  True,  True,\n",
       "        True,  True,  True,  True,  True,  True,  True,  True,  True,\n",
       "        True,  True,  True,  True,  True,  True,  True,  True,  True,\n",
       "       False, False, False, False, False, False, False, False, False,\n",
       "       False, False, False, False, False, False, False, False, False,\n",
       "       False, False, False, False])"
      ]
     },
     "execution_count": 17,
     "metadata": {},
     "output_type": "execute_result"
    }
   ],
   "source": [
    "rf_exp.get_support()"
   ]
  },
  {
   "cell_type": "code",
   "execution_count": 18,
   "metadata": {},
   "outputs": [
    {
     "data": {
      "text/plain": [
       "95"
      ]
     },
     "execution_count": 18,
     "metadata": {},
     "output_type": "execute_result"
    }
   ],
   "source": [
    "selected_feat= features_train.columns[(rf_exp.get_support())]\n",
    "len(selected_feat)"
   ]
  },
  {
   "cell_type": "code",
   "execution_count": 19,
   "metadata": {},
   "outputs": [],
   "source": [
    "#print(features_train.columns[rf_exp.get_support()])"
   ]
  },
  {
   "cell_type": "code",
   "execution_count": 20,
   "metadata": {},
   "outputs": [
    {
     "data": {
      "text/html": [
       "<div>\n",
       "<style scoped>\n",
       "    .dataframe tbody tr th:only-of-type {\n",
       "        vertical-align: middle;\n",
       "    }\n",
       "\n",
       "    .dataframe tbody tr th {\n",
       "        vertical-align: top;\n",
       "    }\n",
       "\n",
       "    .dataframe thead th {\n",
       "        text-align: right;\n",
       "    }\n",
       "</style>\n",
       "<table border=\"1\" class=\"dataframe\">\n",
       "  <thead>\n",
       "    <tr style=\"text-align: right;\">\n",
       "      <th></th>\n",
       "      <th>Ht</th>\n",
       "      <th>Wt</th>\n",
       "      <th>DftYr</th>\n",
       "      <th>DftRd</th>\n",
       "      <th>Ovrl</th>\n",
       "      <th>GP</th>\n",
       "      <th>+/-</th>\n",
       "      <th>E+/-</th>\n",
       "      <th>PIM</th>\n",
       "      <th>Shifts</th>\n",
       "      <th>...</th>\n",
       "      <th>OPS</th>\n",
       "      <th>DPS</th>\n",
       "      <th>PS</th>\n",
       "      <th>OTOI</th>\n",
       "      <th>Grit</th>\n",
       "      <th>DAP</th>\n",
       "      <th>Pace</th>\n",
       "      <th>GS</th>\n",
       "      <th>GS/G</th>\n",
       "      <th>Present_age</th>\n",
       "    </tr>\n",
       "  </thead>\n",
       "  <tbody>\n",
       "    <tr>\n",
       "      <th>0</th>\n",
       "      <td>72</td>\n",
       "      <td>216</td>\n",
       "      <td>2003.0</td>\n",
       "      <td>1.0</td>\n",
       "      <td>13.0</td>\n",
       "      <td>80</td>\n",
       "      <td>-4</td>\n",
       "      <td>8.2</td>\n",
       "      <td>22</td>\n",
       "      <td>1729</td>\n",
       "      <td>...</td>\n",
       "      <td>1.9</td>\n",
       "      <td>1.8</td>\n",
       "      <td>3.7</td>\n",
       "      <td>3418.06</td>\n",
       "      <td>243</td>\n",
       "      <td>19.5</td>\n",
       "      <td>110.4</td>\n",
       "      <td>47.3</td>\n",
       "      <td>0.59</td>\n",
       "      <td>30</td>\n",
       "    </tr>\n",
       "    <tr>\n",
       "      <th>1</th>\n",
       "      <td>72</td>\n",
       "      <td>195</td>\n",
       "      <td>2014.0</td>\n",
       "      <td>1.0</td>\n",
       "      <td>13.0</td>\n",
       "      <td>21</td>\n",
       "      <td>2</td>\n",
       "      <td>0.4</td>\n",
       "      <td>2</td>\n",
       "      <td>291</td>\n",
       "      <td>...</td>\n",
       "      <td>0.3</td>\n",
       "      <td>0.3</td>\n",
       "      <td>0.6</td>\n",
       "      <td>826.49</td>\n",
       "      <td>15</td>\n",
       "      <td>10.0</td>\n",
       "      <td>118.6</td>\n",
       "      <td>8.9</td>\n",
       "      <td>0.42</td>\n",
       "      <td>19</td>\n",
       "    </tr>\n",
       "    <tr>\n",
       "      <th>2</th>\n",
       "      <td>75</td>\n",
       "      <td>227</td>\n",
       "      <td>2007.0</td>\n",
       "      <td>6.0</td>\n",
       "      <td>161.0</td>\n",
       "      <td>81</td>\n",
       "      <td>13</td>\n",
       "      <td>15.0</td>\n",
       "      <td>95</td>\n",
       "      <td>1715</td>\n",
       "      <td>...</td>\n",
       "      <td>3.9</td>\n",
       "      <td>2.0</td>\n",
       "      <td>6.0</td>\n",
       "      <td>3155.13</td>\n",
       "      <td>316</td>\n",
       "      <td>8.9</td>\n",
       "      <td>115.0</td>\n",
       "      <td>52.5</td>\n",
       "      <td>0.65</td>\n",
       "      <td>27</td>\n",
       "    </tr>\n",
       "    <tr>\n",
       "      <th>3</th>\n",
       "      <td>72</td>\n",
       "      <td>182</td>\n",
       "      <td>2013.0</td>\n",
       "      <td>2.0</td>\n",
       "      <td>55.0</td>\n",
       "      <td>73</td>\n",
       "      <td>-1</td>\n",
       "      <td>3.0</td>\n",
       "      <td>8</td>\n",
       "      <td>1488</td>\n",
       "      <td>...</td>\n",
       "      <td>2.3</td>\n",
       "      <td>1.1</td>\n",
       "      <td>3.4</td>\n",
       "      <td>3044.03</td>\n",
       "      <td>105</td>\n",
       "      <td>24.3</td>\n",
       "      <td>111.9</td>\n",
       "      <td>38.1</td>\n",
       "      <td>0.52</td>\n",
       "      <td>20</td>\n",
       "    </tr>\n",
       "    <tr>\n",
       "      <th>4</th>\n",
       "      <td>72</td>\n",
       "      <td>196</td>\n",
       "      <td>2011.0</td>\n",
       "      <td>2.0</td>\n",
       "      <td>36.0</td>\n",
       "      <td>31</td>\n",
       "      <td>3</td>\n",
       "      <td>3.6</td>\n",
       "      <td>17</td>\n",
       "      <td>658</td>\n",
       "      <td>...</td>\n",
       "      <td>0.8</td>\n",
       "      <td>1.1</td>\n",
       "      <td>1.9</td>\n",
       "      <td>1217.17</td>\n",
       "      <td>67</td>\n",
       "      <td>4.8</td>\n",
       "      <td>105.4</td>\n",
       "      <td>15.9</td>\n",
       "      <td>0.51</td>\n",
       "      <td>22</td>\n",
       "    </tr>\n",
       "  </tbody>\n",
       "</table>\n",
       "<p>5 rows × 95 columns</p>\n",
       "</div>"
      ],
      "text/plain": [
       "   Ht   Wt   DftYr  DftRd   Ovrl  GP  +/-  E+/-  PIM  Shifts  ...  OPS  DPS  \\\n",
       "0  72  216  2003.0    1.0   13.0  80   -4   8.2   22    1729  ...  1.9  1.8   \n",
       "1  72  195  2014.0    1.0   13.0  21    2   0.4    2     291  ...  0.3  0.3   \n",
       "2  75  227  2007.0    6.0  161.0  81   13  15.0   95    1715  ...  3.9  2.0   \n",
       "3  72  182  2013.0    2.0   55.0  73   -1   3.0    8    1488  ...  2.3  1.1   \n",
       "4  72  196  2011.0    2.0   36.0  31    3   3.6   17     658  ...  0.8  1.1   \n",
       "\n",
       "    PS     OTOI  Grit   DAP   Pace    GS  GS/G  Present_age  \n",
       "0  3.7  3418.06   243  19.5  110.4  47.3  0.59           30  \n",
       "1  0.6   826.49    15  10.0  118.6   8.9  0.42           19  \n",
       "2  6.0  3155.13   316   8.9  115.0  52.5  0.65           27  \n",
       "3  3.4  3044.03   105  24.3  111.9  38.1  0.52           20  \n",
       "4  1.9  1217.17    67   4.8  105.4  15.9  0.51           22  \n",
       "\n",
       "[5 rows x 95 columns]"
      ]
     },
     "execution_count": 20,
     "metadata": {},
     "output_type": "execute_result"
    }
   ],
   "source": [
    "new_train = features_train.filter([ 'Ht', 'Wt', 'DftYr', 'DftRd', 'Ovrl', 'GP', '+/-', 'E+/-', 'PIM',\n",
    "       'Shifts', 'TOI', 'TOIX', 'TOI/GP', 'TOI/GP.1', 'TOI%', 'IPP%', 'SH%',\n",
    "       'SV%', 'PDO', 'F/60', 'A/60', 'Pct%', 'Diff', 'Diff/60', 'iCF', 'iCF.1',\n",
    "       'iFF', 'iSF', 'iSF.1', 'iSF.2', 'ixG', 'iSCF', 'iDS', 'sDist',\n",
    "       'sDist.1', 'Pass', 'iHF', 'iHF.1', 'iHA', 'iHDf', 'iMiss', 'iGVA',\n",
    "       'iTKA', 'iBLK', 'iGVA.1', 'iTKA.1', 'iBLK.1', 'BLK%', 'Wide', 'S.Slap',\n",
    "       'S.Snap', 'S.Wrst', 'iPenT', 'iPenD', 'iPENT', 'iPEND', 'iPenDf', 'NPD',\n",
    "       'Min', 'CF', 'CA', 'FF', 'FA', 'SF', 'SA', 'xGF', 'xGA', 'SCF', 'SCA',\n",
    "       'GF', 'GA', 'RBF', 'RBA', 'RSF', 'RSA', 'DSF', 'DSA', 'FOW', 'FOL',\n",
    "       'HF', 'HA', 'GVA', 'TKA', 'PENT', 'PEND', 'OPS', 'DPS', 'PS', 'OTOI',\n",
    "       'Grit', 'DAP', 'Pace', 'GS', 'GS/G', 'Present_age'], axis=1)\n",
    "new_train.head()\n",
    "new_test = test_clean.filter([ 'Ht', 'Wt', 'DftYr', 'DftRd', 'Ovrl', 'GP', '+/-', 'E+/-', 'PIM',\n",
    "       'Shifts', 'TOI', 'TOIX', 'TOI/GP', 'TOI/GP.1', 'TOI%', 'IPP%', 'SH%',\n",
    "       'SV%', 'PDO', 'F/60', 'A/60', 'Pct%', 'Diff', 'Diff/60', 'iCF', 'iCF.1',\n",
    "       'iFF', 'iSF', 'iSF.1', 'iSF.2', 'ixG', 'iSCF', 'iDS', 'sDist',\n",
    "       'sDist.1', 'Pass', 'iHF', 'iHF.1', 'iHA', 'iHDf', 'iMiss', 'iGVA',\n",
    "       'iTKA', 'iBLK', 'iGVA.1', 'iTKA.1', 'iBLK.1', 'BLK%', 'Wide', 'S.Slap',\n",
    "       'S.Snap', 'S.Wrst', 'iPenT', 'iPenD', 'iPENT', 'iPEND', 'iPenDf', 'NPD',\n",
    "       'Min', 'CF', 'CA', 'FF', 'FA', 'SF', 'SA', 'xGF', 'xGA', 'SCF', 'SCA',\n",
    "       'GF', 'GA', 'RBF', 'RBA', 'RSF', 'RSA', 'DSF', 'DSA', 'FOW', 'FOL',\n",
    "       'HF', 'HA', 'GVA', 'TKA', 'PENT', 'PEND', 'OPS', 'DPS', 'PS', 'OTOI',\n",
    "       'Grit', 'DAP', 'Pace', 'GS', 'GS/G', 'Present_age'], axis=1)\n",
    "new_test.head()"
   ]
  },
  {
   "cell_type": "code",
   "execution_count": 21,
   "metadata": {},
   "outputs": [],
   "source": [
    "just_train = features_train.filter([ 'Wt', 'DftYr', 'Ovrl', 'PTS', 'TOI/GP', 'TOI/GP.1', 'TOI%', 'iCF',\n",
    "          'iCF.1', '1G', 'CF', 'FF', 'SF', 'xGF', 'SCF', 'GF', 'FOW', 'FOL', 'PS','OTOI', 'GS', 'GS/G', 'Present_age'], axis=1)\n",
    "just_test = test_clean.filter([ 'Wt', 'DftYr', 'Ovrl', 'PTS', 'TOI/GP', 'TOI/GP.1', 'TOI%', 'iCF',\n",
    "          'iCF.1', '1G', 'CF', 'FF', 'SF', 'xGF', 'SCF', 'GF', 'FOW', 'FOL', 'PS','OTOI', 'GS', 'GS/G', 'Present_age'], axis=1)"
   ]
  },
  {
   "cell_type": "code",
   "execution_count": 22,
   "metadata": {},
   "outputs": [
    {
     "data": {
      "text/plain": [
       "RandomForestRegressor(bootstrap=True, ccp_alpha=0.0, criterion='mse',\n",
       "                      max_depth=None, max_features='auto', max_leaf_nodes=None,\n",
       "                      max_samples=None, min_impurity_decrease=0.0,\n",
       "                      min_impurity_split=None, min_samples_leaf=1,\n",
       "                      min_samples_split=2, min_weight_fraction_leaf=0.0,\n",
       "                      n_estimators=10, n_jobs=None, oob_score=False,\n",
       "                      random_state=100, verbose=0, warm_start=False)"
      ]
     },
     "execution_count": 22,
     "metadata": {},
     "output_type": "execute_result"
    }
   ],
   "source": [
    "rf_exp = RandomForestRegressor(n_estimators= 10, random_state=100)\n",
    "rf_exp.fit(new_train,labels_train)"
   ]
  },
  {
   "cell_type": "code",
   "execution_count": 23,
   "metadata": {},
   "outputs": [],
   "source": [
    "predictions = rf_exp.predict(new_test)"
   ]
  },
  {
   "cell_type": "code",
   "execution_count": 24,
   "metadata": {},
   "outputs": [
    {
     "name": "stdout",
     "output_type": "stream",
     "text": [
      "Mean Absolute Error: 968413.4198473282\n",
      "Mean Squared Error: 2548631460120.538\n",
      "Root Mean Squared Error: 1596443.378300821\n"
     ]
    }
   ],
   "source": [
    "from sklearn import metrics\n",
    "\n",
    "print('Mean Absolute Error:', metrics.mean_absolute_error(salary_test, predictions))\n",
    "print('Mean Squared Error:', metrics.mean_squared_error(salary_test, predictions))\n",
    "print('Root Mean Squared Error:', np.sqrt(metrics.mean_squared_error(salary_test, predictions)))"
   ]
  },
  {
   "cell_type": "code",
   "execution_count": 25,
   "metadata": {},
   "outputs": [
    {
     "data": {
      "text/plain": [
       "<matplotlib.axes._subplots.AxesSubplot at 0x1a2173f3c8>"
      ]
     },
     "execution_count": 25,
     "metadata": {},
     "output_type": "execute_result"
    },
    {
     "data": {
      "image/png": "[encoded data removed]",
      "text/plain": [
       "<Figure size 432x288 with 1 Axes>"
      ]
     },
     "metadata": {
      "needs_background": "light"
     },
     "output_type": "display_data"
    }
   ],
   "source": [
    "feat_importances = pd.Series(rf_exp.feature_importances_, index=new_train.columns)\n",
    "feat_importances.nlargest(10).plot(kind='barh')"
   ]
  },
  {
   "cell_type": "code",
   "execution_count": 36,
   "metadata": {},
   "outputs": [],
   "source": [
    "xg_reg = xgb.XGBRegressor(objective ='reg:linear', nrounds = 1000, \n",
    "    early_stopping_rounds = 50, max_depth = 8, eta = 0.3, nthread = 2)\n"
   ]
  },
  {
   "cell_type": "code",
   "execution_count": 37,
   "metadata": {},
   "outputs": [
    {
     "name": "stdout",
     "output_type": "stream",
     "text": [
      "[22:29:00] WARNING: src/objective/regression_obj.cu:152: reg:linear is now deprecated in favor of reg:squarederror.\n"
     ]
    }
   ],
   "source": [
    "xg_reg.fit(new_train,labels_train)\n",
    "\n",
    "preds = xg_reg.predict(new_test)"
   ]
  },
  {
   "cell_type": "code",
   "execution_count": 38,
   "metadata": {},
   "outputs": [
    {
     "name": "stdout",
     "output_type": "stream",
     "text": [
      "Mean Absolute Error: 952636.611879771\n",
      "Mean Squared Error: 2464825450797.168\n",
      "Root Mean Squared Error: 1569976.2580361424\n"
     ]
    }
   ],
   "source": [
    "from sklearn import metrics\n",
    "\n",
    "print('Mean Absolute Error:', metrics.mean_absolute_error(salary_test, preds))\n",
    "print('Mean Squared Error:', metrics.mean_squared_error(salary_test, preds))\n",
    "print('Root Mean Squared Error:', np.sqrt(metrics.mean_squared_error(salary_test, preds)))"
   ]
  },
  {
   "cell_type": "code",
   "execution_count": 39,
   "metadata": {},
   "outputs": [
    {
     "data": {
      "text/plain": [
       "<matplotlib.axes._subplots.AxesSubplot at 0x1a656cc390>"
      ]
     },
     "execution_count": 39,
     "metadata": {},
     "output_type": "execute_result"
    },
    {
     "data": {
      "image/png": "[encoded data removed]",
      "text/plain": [
       "<Figure size 432x288 with 1 Axes>"
      ]
     },
     "metadata": {
      "needs_background": "light"
     },
     "output_type": "display_data"
    }
   ],
   "source": [
    "feat_importances = pd.Series(xg_reg.feature_importances_, index=new_train.columns)\n",
    "feat_importances.nlargest(10).plot(kind='barh')"
   ]
  },
  {
   "cell_type": "code",
   "execution_count": null,
   "metadata": {},
   "outputs": [],
   "source": []
  }
 ],
 "metadata": {
  "kernelspec": {
   "display_name": "Python 3",
   "language": "python",
   "name": "python3"
  },
  "language_info": {
   "codemirror_mode": {
    "name": "ipython",
    "version": 3
   },
   "file_extension": ".py",
   "mimetype": "text/x-python",
   "name": "python",
   "nbconvert_exporter": "python",
   "pygments_lexer": "ipython3",
   "version": "3.7.1"
  }
 },
 "nbformat": 4,
 "nbformat_minor": 4
}
